{
 "cells": [
  {
   "cell_type": "markdown",
   "metadata": {},
   "source": [
    "## Part 2: Geocode the addresses w/ Google Maps API"
   ]
  },
  {
   "cell_type": "code",
   "execution_count": null,
   "metadata": {},
   "outputs": [],
   "source": [
    "import requests\n",
    "import json\n",
    "import csv\n",
    "import pandas as pd\n",
    "import urllib.parse\n",
    "import numpy as np\n",
    "import geojson\n",
    "\n",
    "pd.set_option('display.max_columns', None)       # Show all columns\n",
    "pd.set_option('display.width', None)"
   ]
  },
  {
   "cell_type": "code",
   "execution_count": 38,
   "metadata": {},
   "outputs": [],
   "source": [
    "in_file = '2023_fires_in_tempe_loc1.csv'\n",
    "out_file = '2023_fires_in_tempe.json'"
   ]
  },
  {
   "cell_type": "markdown",
   "metadata": {},
   "source": [
    "We will use Google Maps Geocoding API to turn addresses into latitude/longitude coordinate pairs."
   ]
  },
  {
   "cell_type": "code",
   "execution_count": null,
   "metadata": {},
   "outputs": [],
   "source": [
    "# make sure to .gitignore the entire secrets folder, or risk uploading a key to the public internet\n",
    "with open('secrets/gmaps_key', 'r') as f:\n",
    "    api_key = f.read()"
   ]
  },
  {
   "cell_type": "code",
   "execution_count": null,
   "metadata": {},
   "outputs": [],
   "source": [
    "with open(in_file,'r') as f:\n",
    "    df = pd.read_csv(f)\n",
    "\n",
    "# Read pickle if restarting the kernel\n",
    "# responses = pd.read_pickle('api_response.pkl')"
   ]
  },
  {
   "cell_type": "markdown",
   "metadata": {},
   "source": [
    "Write a GET request to the Geocode JSON API, and loop to get the coords of the address."
   ]
  },
  {
   "cell_type": "code",
   "execution_count": null,
   "metadata": {},
   "outputs": [],
   "source": [
    "responses = []\n",
    "url = 'https://maps.googleapis.com/maps/api/geocode/json'\n",
    "\n",
    "for i,row in df.iterrows():\n",
    "    params = {\n",
    "        'key': api_key,\n",
    "        'outputFormat': 'json',\n",
    "        'address': row['_addr']\n",
    "    }\n",
    "    print(row['_addr'])\n",
    "    response = requests.get(url, params=params)\n",
    "    if response.status_code == 200:\n",
    "        responses.append(response.json())\n",
    "        print(response.json())\n",
    "    else:\n",
    "        print(f\"Error {response.status_code}\")\n",
    "    # break\n",
    "\n",
    "pd.to_pickle(responses, 'api_response.pkl')\n",
    "\n",
    "with open('api_response.json','w') as f:\n",
    "    f.write(json.dumps(responses))"
   ]
  },
  {
   "cell_type": "markdown",
   "metadata": {},
   "source": [
    "Navigate the JSON to find the latitude and longitude pairs. (Note: naive assumption that # of API responses matches # of input addresses.)"
   ]
  },
  {
   "cell_type": "code",
   "execution_count": 42,
   "metadata": {},
   "outputs": [],
   "source": [
    "lat = []\n",
    "lng = []\n",
    "for r in responses:\n",
    "    lat.append(r['results'][0]['geometry']['location']['lat'])\n",
    "    lng.append(r['results'][0]['geometry']['location']['lng'])"
   ]
  },
  {
   "cell_type": "code",
   "execution_count": 43,
   "metadata": {},
   "outputs": [
    {
     "data": {
      "text/html": [
       "<div>\n",
       "<style scoped>\n",
       "    .dataframe tbody tr th:only-of-type {\n",
       "        vertical-align: middle;\n",
       "    }\n",
       "\n",
       "    .dataframe tbody tr th {\n",
       "        vertical-align: top;\n",
       "    }\n",
       "\n",
       "    .dataframe thead th {\n",
       "        text-align: right;\n",
       "    }\n",
       "</style>\n",
       "<table border=\"1\" class=\"dataframe\">\n",
       "  <thead>\n",
       "    <tr style=\"text-align: right;\">\n",
       "      <th></th>\n",
       "      <th>INCIDENT_KEY</th>\n",
       "      <th>_addr</th>\n",
       "      <th>_desc</th>\n",
       "      <th>INC_DATE</th>\n",
       "      <th>lat</th>\n",
       "      <th>lng</th>\n",
       "    </tr>\n",
       "  </thead>\n",
       "  <tbody>\n",
       "    <tr>\n",
       "      <th>0</th>\n",
       "      <td>AZ_08052_01102023_231089_0</td>\n",
       "      <td>9631 S LA ROSA DR Tempe AZ 85284</td>\n",
       "      <td>Number of Residential Units: 1.0\\nArea of Orig...</td>\n",
       "      <td>2023-01-10</td>\n",
       "      <td>33.324533</td>\n",
       "      <td>-111.930831</td>\n",
       "    </tr>\n",
       "    <tr>\n",
       "      <th>1</th>\n",
       "      <td>AZ_08293_01102023_23841_0</td>\n",
       "      <td>6230 S TAYLOR DR Tempe AZ 85283</td>\n",
       "      <td>Number of Residential Units: 1.0\\nArea of Orig...</td>\n",
       "      <td>2023-01-10</td>\n",
       "      <td>33.364401</td>\n",
       "      <td>-111.908903</td>\n",
       "    </tr>\n",
       "    <tr>\n",
       "      <th>2</th>\n",
       "      <td>AZ_08293_01202023_231742_0</td>\n",
       "      <td>1512 N SCOTTSDALE RD Tempe AZ 85281</td>\n",
       "      <td>Area of Origin: Engine area, running gear, whe...</td>\n",
       "      <td>2023-01-20</td>\n",
       "      <td>33.446199</td>\n",
       "      <td>-111.926981</td>\n",
       "    </tr>\n",
       "    <tr>\n",
       "      <th>3</th>\n",
       "      <td>AZ_08293_02012023_232753_0</td>\n",
       "      <td>485 W CARMEN ST Tempe AZ 85283</td>\n",
       "      <td>Number of Residential Units: 1.0\\nNumber of Bu...</td>\n",
       "      <td>2023-02-01</td>\n",
       "      <td>33.359411</td>\n",
       "      <td>-111.948662</td>\n",
       "    </tr>\n",
       "    <tr>\n",
       "      <th>4</th>\n",
       "      <td>AZ_08293_02072023_233243_0</td>\n",
       "      <td>1245 E LAGUNA DR Tempe AZ 85282</td>\n",
       "      <td>Number of Residential Units: 1.0\\nArea of Orig...</td>\n",
       "      <td>2023-02-07</td>\n",
       "      <td>33.390257</td>\n",
       "      <td>-111.919445</td>\n",
       "    </tr>\n",
       "    <tr>\n",
       "      <th>...</th>\n",
       "      <td>...</td>\n",
       "      <td>...</td>\n",
       "      <td>...</td>\n",
       "      <td>...</td>\n",
       "      <td>...</td>\n",
       "      <td>...</td>\n",
       "    </tr>\n",
       "    <tr>\n",
       "      <th>249</th>\n",
       "      <td>AZ_08293_12252023_2333577_0</td>\n",
       "      <td>636 W MANHATTON DR Tempe AZ 85282</td>\n",
       "      <td>Area of Origin: Undetermined\\nHeat Source: Und...</td>\n",
       "      <td>2023-12-25</td>\n",
       "      <td>33.389506</td>\n",
       "      <td>-111.949217</td>\n",
       "    </tr>\n",
       "    <tr>\n",
       "      <th>250</th>\n",
       "      <td>AZ_08293_12262023_2333657_0</td>\n",
       "      <td>40 E GAMMAGE PKY Tempe AZ 85281</td>\n",
       "      <td>Not Residential Flag: Y\\nNumber of Buildings I...</td>\n",
       "      <td>2023-12-26</td>\n",
       "      <td>33.418065</td>\n",
       "      <td>-111.939389</td>\n",
       "    </tr>\n",
       "    <tr>\n",
       "      <th>251</th>\n",
       "      <td>AZ_08293_12272023_2333718_0</td>\n",
       "      <td>3141 S MCCLINTOCK DR Tempe AZ 85282</td>\n",
       "      <td>Number of Residential Units: 0.0\\nNumber of Bu...</td>\n",
       "      <td>2023-12-27</td>\n",
       "      <td>33.394784</td>\n",
       "      <td>-111.908588</td>\n",
       "    </tr>\n",
       "    <tr>\n",
       "      <th>252</th>\n",
       "      <td>AZ_08293_12302023_2333948_0</td>\n",
       "      <td>2425 E APACHE BLVD Tempe AZ 85281</td>\n",
       "      <td>Number of Residential Units: 1.0\\nNumber of Bu...</td>\n",
       "      <td>2023-12-30</td>\n",
       "      <td>33.414660</td>\n",
       "      <td>-111.886196</td>\n",
       "    </tr>\n",
       "    <tr>\n",
       "      <th>253</th>\n",
       "      <td>AZ_08293_12312023_2334031_0</td>\n",
       "      <td>425 W HERMOSA DR Tempe AZ 85282</td>\n",
       "      <td>Number of Residential Units: 1.0\\nLess Than On...</td>\n",
       "      <td>2023-12-31</td>\n",
       "      <td>33.387870</td>\n",
       "      <td>-111.946175</td>\n",
       "    </tr>\n",
       "  </tbody>\n",
       "</table>\n",
       "<p>254 rows × 6 columns</p>\n",
       "</div>"
      ],
      "text/plain": [
       "                    INCIDENT_KEY                                _addr  \\\n",
       "0     AZ_08052_01102023_231089_0     9631 S LA ROSA DR Tempe AZ 85284   \n",
       "1      AZ_08293_01102023_23841_0      6230 S TAYLOR DR Tempe AZ 85283   \n",
       "2     AZ_08293_01202023_231742_0  1512 N SCOTTSDALE RD Tempe AZ 85281   \n",
       "3     AZ_08293_02012023_232753_0       485 W CARMEN ST Tempe AZ 85283   \n",
       "4     AZ_08293_02072023_233243_0      1245 E LAGUNA DR Tempe AZ 85282   \n",
       "..                           ...                                  ...   \n",
       "249  AZ_08293_12252023_2333577_0    636 W MANHATTON DR Tempe AZ 85282   \n",
       "250  AZ_08293_12262023_2333657_0      40 E GAMMAGE PKY Tempe AZ 85281   \n",
       "251  AZ_08293_12272023_2333718_0  3141 S MCCLINTOCK DR Tempe AZ 85282   \n",
       "252  AZ_08293_12302023_2333948_0    2425 E APACHE BLVD Tempe AZ 85281   \n",
       "253  AZ_08293_12312023_2334031_0      425 W HERMOSA DR Tempe AZ 85282   \n",
       "\n",
       "                                                 _desc    INC_DATE        lat  \\\n",
       "0    Number of Residential Units: 1.0\\nArea of Orig...  2023-01-10  33.324533   \n",
       "1    Number of Residential Units: 1.0\\nArea of Orig...  2023-01-10  33.364401   \n",
       "2    Area of Origin: Engine area, running gear, whe...  2023-01-20  33.446199   \n",
       "3    Number of Residential Units: 1.0\\nNumber of Bu...  2023-02-01  33.359411   \n",
       "4    Number of Residential Units: 1.0\\nArea of Orig...  2023-02-07  33.390257   \n",
       "..                                                 ...         ...        ...   \n",
       "249  Area of Origin: Undetermined\\nHeat Source: Und...  2023-12-25  33.389506   \n",
       "250  Not Residential Flag: Y\\nNumber of Buildings I...  2023-12-26  33.418065   \n",
       "251  Number of Residential Units: 0.0\\nNumber of Bu...  2023-12-27  33.394784   \n",
       "252  Number of Residential Units: 1.0\\nNumber of Bu...  2023-12-30  33.414660   \n",
       "253  Number of Residential Units: 1.0\\nLess Than On...  2023-12-31  33.387870   \n",
       "\n",
       "            lng  \n",
       "0   -111.930831  \n",
       "1   -111.908903  \n",
       "2   -111.926981  \n",
       "3   -111.948662  \n",
       "4   -111.919445  \n",
       "..          ...  \n",
       "249 -111.949217  \n",
       "250 -111.939389  \n",
       "251 -111.908588  \n",
       "252 -111.886196  \n",
       "253 -111.946175  \n",
       "\n",
       "[254 rows x 6 columns]"
      ]
     },
     "execution_count": 43,
     "metadata": {},
     "output_type": "execute_result"
    }
   ],
   "source": [
    "df['lat'] = lat\n",
    "df['lng'] = lng\n",
    "df"
   ]
  },
  {
   "cell_type": "markdown",
   "metadata": {},
   "source": [
    "Use the GeoJSON library to put this data into Cesium-readable format"
   ]
  },
  {
   "cell_type": "code",
   "execution_count": null,
   "metadata": {},
   "outputs": [],
   "source": [
    "features = []\n",
    "\n",
    "for i, row in df.iterrows():\n",
    "    p = geojson.Point((row['lng'], row['lat']))\n",
    "    f = geojson.Feature(id=i, geometry=p, properties={\n",
    "        \"description\": row['_desc'],\n",
    "        \"date\": row['INC_DATE'],\n",
    "        \"address\": row['_addr']\n",
    "    })\n",
    "    features.append(f)\n",
    "\n",
    "fc = geojson.FeatureCollection(features=features)\n",
    "\n",
    "with open(out_file,'w') as f:\n",
    "    f.write(geojson.dumps(fc))"
   ]
  },
  {
   "cell_type": "markdown",
   "metadata": {},
   "source": [
    "Uncomment if you also want elevation data. Note that Cesium elevation doesn't match GMaps API response."
   ]
  },
  {
   "cell_type": "code",
   "execution_count": null,
   "metadata": {},
   "outputs": [],
   "source": [
    "# responses = []\n",
    "# url = 'https://maps.googleapis.com/maps/api/elevation/json'\n",
    "\n",
    "# # for i, row in df.iterrows():\n",
    "# #     params = {\n",
    "# #         'key': api_key,\n",
    "# #         'locations': f\"{str(row['lat'])}, {str(row['lng'])}\" #gmaps has it lat/lon backwards to geojson\n",
    "# #     }\n",
    "# #     response = requests.get(url, params=params)\n",
    "# #     if response.status_code == 200:\n",
    "# #         responses.append(response.json())\n",
    "# #         print(response.json())\n",
    "# #     else:\n",
    "# #         print(f\"Error {response.status_code}\")\n",
    "\n",
    "# elevations = []\n",
    "# for row in responses:\n",
    "#     elevations.append(row['results'][0]['elevation'])\n",
    "# df['elevation'] = elevations\n",
    "# df.to_json('nfirs_cleaned_forunity.json',orient='records')"
   ]
  }
 ],
 "metadata": {
  "kernelspec": {
   "display_name": "base",
   "language": "python",
   "name": "python3"
  },
  "language_info": {
   "codemirror_mode": {
    "name": "ipython",
    "version": 3
   },
   "file_extension": ".py",
   "mimetype": "text/x-python",
   "name": "python",
   "nbconvert_exporter": "python",
   "pygments_lexer": "ipython3",
   "version": "3.12.3"
  }
 },
 "nbformat": 4,
 "nbformat_minor": 2
}
