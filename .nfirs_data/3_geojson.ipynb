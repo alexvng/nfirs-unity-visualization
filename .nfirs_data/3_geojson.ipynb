{
 "cells": [
  {
   "cell_type": "code",
   "execution_count": 12,
   "metadata": {},
   "outputs": [],
   "source": [
    "# Importing necessary libraries for exploratory data analysis\n",
    "\n",
    "import pandas as pd              # Data manipulation and analysis\n",
    "import numpy as np               # Numerical operations\n",
    "import matplotlib.pyplot as plt   # Plotting and visualization\n",
    "import seaborn as sns            # Advanced plotting (statistical graphics)\n",
    "import json                      # Handling JSON data\n",
    "import csv                       # Working with CSV files\n",
    "import os                        # File and directory manipulation\n",
    "import datetime                  # Date and time manipulation\n",
    "from collections import defaultdict # For creating default dictionaries\n",
    "import plotly.express as px      # Interactive plotting (optional)\n",
    "import geojson\n",
    "\n",
    "pd.set_option('display.max_columns', None)       # Show all columns\n",
    "pd.set_option('display.width', None)"
   ]
  },
  {
   "cell_type": "code",
   "execution_count": 13,
   "metadata": {},
   "outputs": [
    {
     "data": {
      "text/html": [
       "<div>\n",
       "<style scoped>\n",
       "    .dataframe tbody tr th:only-of-type {\n",
       "        vertical-align: middle;\n",
       "    }\n",
       "\n",
       "    .dataframe tbody tr th {\n",
       "        vertical-align: top;\n",
       "    }\n",
       "\n",
       "    .dataframe thead th {\n",
       "        text-align: right;\n",
       "    }\n",
       "</style>\n",
       "<table border=\"1\" class=\"dataframe\">\n",
       "  <thead>\n",
       "    <tr style=\"text-align: right;\">\n",
       "      <th></th>\n",
       "      <th>_addr</th>\n",
       "      <th>_desc</th>\n",
       "      <th>INC_DATE</th>\n",
       "      <th>lat</th>\n",
       "      <th>lng</th>\n",
       "      <th>elevation</th>\n",
       "    </tr>\n",
       "  </thead>\n",
       "  <tbody>\n",
       "    <tr>\n",
       "      <th>0</th>\n",
       "      <td>9631 S LA ROSA DR Tempe AZ 85284</td>\n",
       "      <td>Number of Residential Units: 1.0\\nArea of Orig...</td>\n",
       "      <td>2023-01-10</td>\n",
       "      <td>33.324533</td>\n",
       "      <td>-111.930831</td>\n",
       "      <td>357.615173</td>\n",
       "    </tr>\n",
       "    <tr>\n",
       "      <th>1</th>\n",
       "      <td>6230 S TAYLOR DR Tempe AZ 85283</td>\n",
       "      <td>Number of Residential Units: 1.0\\nArea of Orig...</td>\n",
       "      <td>2023-01-10</td>\n",
       "      <td>33.364401</td>\n",
       "      <td>-111.908903</td>\n",
       "      <td>361.825653</td>\n",
       "    </tr>\n",
       "    <tr>\n",
       "      <th>2</th>\n",
       "      <td>1512 N SCOTTSDALE RD Tempe AZ 85281</td>\n",
       "      <td>Area of Origin: Engine area, running gear, whe...</td>\n",
       "      <td>2023-01-20</td>\n",
       "      <td>33.446199</td>\n",
       "      <td>-111.926981</td>\n",
       "      <td>364.902527</td>\n",
       "    </tr>\n",
       "    <tr>\n",
       "      <th>3</th>\n",
       "      <td>485 W CARMEN ST Tempe AZ 85283</td>\n",
       "      <td>Number of Residential Units: 1.0\\nNumber of Bu...</td>\n",
       "      <td>2023-02-01</td>\n",
       "      <td>33.359411</td>\n",
       "      <td>-111.948662</td>\n",
       "      <td>368.112488</td>\n",
       "    </tr>\n",
       "    <tr>\n",
       "      <th>4</th>\n",
       "      <td>1245 E LAGUNA DR Tempe AZ 85282</td>\n",
       "      <td>Number of Residential Units: 1.0\\nArea of Orig...</td>\n",
       "      <td>2023-02-07</td>\n",
       "      <td>33.390257</td>\n",
       "      <td>-111.919445</td>\n",
       "      <td>360.739349</td>\n",
       "    </tr>\n",
       "  </tbody>\n",
       "</table>\n",
       "</div>"
      ],
      "text/plain": [
       "                                 _addr  \\\n",
       "0     9631 S LA ROSA DR Tempe AZ 85284   \n",
       "1      6230 S TAYLOR DR Tempe AZ 85283   \n",
       "2  1512 N SCOTTSDALE RD Tempe AZ 85281   \n",
       "3       485 W CARMEN ST Tempe AZ 85283   \n",
       "4      1245 E LAGUNA DR Tempe AZ 85282   \n",
       "\n",
       "                                               _desc    INC_DATE        lat  \\\n",
       "0  Number of Residential Units: 1.0\\nArea of Orig...  2023-01-10  33.324533   \n",
       "1  Number of Residential Units: 1.0\\nArea of Orig...  2023-01-10  33.364401   \n",
       "2  Area of Origin: Engine area, running gear, whe...  2023-01-20  33.446199   \n",
       "3  Number of Residential Units: 1.0\\nNumber of Bu...  2023-02-01  33.359411   \n",
       "4  Number of Residential Units: 1.0\\nArea of Orig...  2023-02-07  33.390257   \n",
       "\n",
       "          lng   elevation  \n",
       "0 -111.930831  357.615173  \n",
       "1 -111.908903  361.825653  \n",
       "2 -111.926981  364.902527  \n",
       "3 -111.948662  368.112488  \n",
       "4 -111.919445  360.739349  "
      ]
     },
     "execution_count": 13,
     "metadata": {},
     "output_type": "execute_result"
    }
   ],
   "source": [
    "with open('nfirs_cleaned_forunity.json','r') as f:\n",
    "    df = pd.read_json(f)\n",
    "\n",
    "df.head()"
   ]
  },
  {
   "cell_type": "code",
   "execution_count": 14,
   "metadata": {},
   "outputs": [],
   "source": [
    "features = []\n",
    "\n",
    "for i, row in df.iterrows():\n",
    "    p = geojson.Point((row['lat'], row['lng']))\n",
    "    f = geojson.Feature(id=i, geometry=p, properties={\n",
    "        \"description\": row['_desc'],\n",
    "        \"date\": row['INC_DATE'],\n",
    "        \"address\": row['_addr']\n",
    "    })\n",
    "    features.append(f)"
   ]
  },
  {
   "cell_type": "code",
   "execution_count": 15,
   "metadata": {},
   "outputs": [],
   "source": [
    "fc = geojson.FeatureCollection(features=features)"
   ]
  },
  {
   "cell_type": "code",
   "execution_count": 16,
   "metadata": {},
   "outputs": [],
   "source": [
    "with open('geojson-test.json','w') as f:\n",
    "    f.write(geojson.dumps(fc))"
   ]
  }
 ],
 "metadata": {
  "kernelspec": {
   "display_name": "base",
   "language": "python",
   "name": "python3"
  },
  "language_info": {
   "codemirror_mode": {
    "name": "ipython",
    "version": 3
   },
   "file_extension": ".py",
   "mimetype": "text/x-python",
   "name": "python",
   "nbconvert_exporter": "python",
   "pygments_lexer": "ipython3",
   "version": "3.12.3"
  }
 },
 "nbformat": 4,
 "nbformat_minor": 2
}
