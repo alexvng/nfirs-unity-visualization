{
 "cells": [
  {
   "cell_type": "code",
   "execution_count": null,
   "metadata": {},
   "outputs": [],
   "source": [
    "import requests\n",
    "import json\n",
    "import csv\n",
    "import pandas as pd\n",
    "import urllib.parse\n",
    "import numpy as np\n",
    "import geojson\n",
    "import os\n",
    "\n",
    "pd.set_option('display.max_columns', None)       # Show all columns\n",
    "pd.set_option('display.width', None)"
   ]
  },
  {
   "cell_type": "code",
   "execution_count": 40,
   "metadata": {},
   "outputs": [],
   "source": [
    "fcs = []\n",
    "for filename in os.listdir('./'):\n",
    "    if filename.endswith('json'):\n",
    "        with open(filename, 'r', encoding='utf-8') as f:\n",
    "            fc = geojson.load(f)\n",
    "            fcs.append(fc)"
   ]
  },
  {
   "cell_type": "code",
   "execution_count": 47,
   "metadata": {},
   "outputs": [],
   "source": [
    "merged = []\n",
    "for fc in fcs:\n",
    "    merged += fc['features']\n",
    "\n",
    "new_fc = geojson.FeatureCollection(merged)"
   ]
  },
  {
   "cell_type": "code",
   "execution_count": 50,
   "metadata": {},
   "outputs": [],
   "source": [
    "with open('../Assets/fires-2020-23.json','w') as f:\n",
    "    f.write(geojson.dumps(new_fc))"
   ]
  },
  {
   "cell_type": "code",
   "execution_count": null,
   "metadata": {},
   "outputs": [],
   "source": []
  }
 ],
 "metadata": {
  "kernelspec": {
   "display_name": "base",
   "language": "python",
   "name": "python3"
  },
  "language_info": {
   "codemirror_mode": {
    "name": "ipython",
    "version": 3
   },
   "file_extension": ".py",
   "mimetype": "text/x-python",
   "name": "python",
   "nbconvert_exporter": "python",
   "pygments_lexer": "ipython3",
   "version": "3.12.3"
  }
 },
 "nbformat": 4,
 "nbformat_minor": 2
}
