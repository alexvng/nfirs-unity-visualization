{
 "cells": [
  {
   "cell_type": "markdown",
   "metadata": {},
   "source": [
    "## Part 3: Merge all data years into one GeoJSON file"
   ]
  },
  {
   "cell_type": "code",
   "execution_count": 1,
   "metadata": {},
   "outputs": [],
   "source": [
    "import requests\n",
    "import json\n",
    "import csv\n",
    "import pandas as pd\n",
    "import urllib.parse\n",
    "import numpy as np\n",
    "import geojson\n",
    "import os\n",
    "\n",
    "pd.set_option('display.max_columns', None)       # Show all columns\n",
    "pd.set_option('display.width', None)"
   ]
  },
  {
   "cell_type": "code",
   "execution_count": null,
   "metadata": {},
   "outputs": [],
   "source": [
    "fcs = [] #Feature Collection(S)\n",
    "for filename in os.listdir('./'):\n",
    "    if filename.endswith('json'):\n",
    "        with open(filename, 'r', encoding='utf-8') as f:\n",
    "            fc = geojson.load(f)\n",
    "            fcs.append(fc)"
   ]
  },
  {
   "cell_type": "code",
   "execution_count": null,
   "metadata": {},
   "outputs": [],
   "source": [
    "merged = []\n",
    "for fc in fcs:\n",
    "    a = fc['features']\n",
    "    for f in a:\n",
    "        f['id'] = str(f['id']) #required to prevent GeoJSON C# parse errors\n",
    "    merged += fc['features']\n",
    "\n",
    "new_fc = geojson.FeatureCollection(merged)"
   ]
  },
  {
   "cell_type": "code",
   "execution_count": null,
   "metadata": {},
   "outputs": [],
   "source": [
    "new_fc"
   ]
  },
  {
   "cell_type": "markdown",
   "metadata": {},
   "source": [
    "Send file to Unity Assets folder"
   ]
  },
  {
   "cell_type": "code",
   "execution_count": 8,
   "metadata": {},
   "outputs": [],
   "source": [
    "with open('../Assets/fires-2020-23.json','w') as f:\n",
    "    f.write(geojson.dumps(new_fc))"
   ]
  }
 ],
 "metadata": {
  "kernelspec": {
   "display_name": "base",
   "language": "python",
   "name": "python3"
  },
  "language_info": {
   "codemirror_mode": {
    "name": "ipython",
    "version": 3
   },
   "file_extension": ".py",
   "mimetype": "text/x-python",
   "name": "python",
   "nbconvert_exporter": "python",
   "pygments_lexer": "ipython3",
   "version": "3.12.3"
  }
 },
 "nbformat": 4,
 "nbformat_minor": 2
}
